{
 "cells": [
  {
   "cell_type": "code",
   "execution_count": 1,
   "metadata": {
    "code_folding": []
   },
   "outputs": [],
   "source": [
    "# $ 0 u l $ h i f t e r\n",
    "%matplotlib inline\n",
    "import pandas as pd\n",
    "import numpy as np\n",
    "import seaborn as sns\n",
    "from matplotlib import pyplot as plt\n",
    "import warnings\n",
    "warnings.filterwarnings('ignore')\n",
    "import os\n",
    "from IPython.core.interactiveshell import InteractiveShell\n",
    "InteractiveShell.ast_node_interactivity = \"all\""
   ]
  },
  {
   "cell_type": "code",
   "execution_count": 2,
   "metadata": {},
   "outputs": [
    {
     "data": {
      "text/html": [
       "<div>\n",
       "<style scoped>\n",
       "    .dataframe tbody tr th:only-of-type {\n",
       "        vertical-align: middle;\n",
       "    }\n",
       "\n",
       "    .dataframe tbody tr th {\n",
       "        vertical-align: top;\n",
       "    }\n",
       "\n",
       "    .dataframe thead th {\n",
       "        text-align: right;\n",
       "    }\n",
       "</style>\n",
       "<table border=\"1\" class=\"dataframe\">\n",
       "  <thead>\n",
       "    <tr style=\"text-align: right;\">\n",
       "      <th></th>\n",
       "      <th>path</th>\n",
       "      <th>category</th>\n",
       "    </tr>\n",
       "  </thead>\n",
       "  <tbody>\n",
       "    <tr>\n",
       "      <th>0</th>\n",
       "      <td>../dataset/train/ALB/img_00003.jpg</td>\n",
       "      <td>ALB</td>\n",
       "    </tr>\n",
       "    <tr>\n",
       "      <th>1</th>\n",
       "      <td>../dataset/train/ALB/img_00010.jpg</td>\n",
       "      <td>ALB</td>\n",
       "    </tr>\n",
       "    <tr>\n",
       "      <th>2</th>\n",
       "      <td>../dataset/train/ALB/img_00012.jpg</td>\n",
       "      <td>ALB</td>\n",
       "    </tr>\n",
       "    <tr>\n",
       "      <th>3</th>\n",
       "      <td>../dataset/train/ALB/img_00015.jpg</td>\n",
       "      <td>ALB</td>\n",
       "    </tr>\n",
       "    <tr>\n",
       "      <th>4</th>\n",
       "      <td>../dataset/train/ALB/img_00019.jpg</td>\n",
       "      <td>ALB</td>\n",
       "    </tr>\n",
       "  </tbody>\n",
       "</table>\n",
       "</div>"
      ],
      "text/plain": [
       "                                 path category\n",
       "0  ../dataset/train/ALB/img_00003.jpg      ALB\n",
       "1  ../dataset/train/ALB/img_00010.jpg      ALB\n",
       "2  ../dataset/train/ALB/img_00012.jpg      ALB\n",
       "3  ../dataset/train/ALB/img_00015.jpg      ALB\n",
       "4  ../dataset/train/ALB/img_00019.jpg      ALB"
      ]
     },
     "execution_count": 2,
     "metadata": {},
     "output_type": "execute_result"
    }
   ],
   "source": [
    "df = pd.DataFrame(index = None, columns = ['path', 'category'])\n",
    "rootdir = '../dataset/train'\n",
    "test_path = '../dataset/test_stg1/'\n",
    "filelist = []\n",
    "category = []\n",
    "for subdir, dirs, files in os.walk(rootdir):\n",
    "    for file in files:\n",
    "        temp = file.split('/')\n",
    "        filelist.append(os.path.join(subdir, file))\n",
    "filelist = filelist[1:]\n",
    "for i, file in enumerate(filelist):\n",
    "    temp = filelist[i].split('\\\\')\n",
    "    category.append(temp[-2])\n",
    "filelist = [file.replace(\"\\\\\", \"/\", 2) for file in filelist]\n",
    "df['path'] = filelist\n",
    "df['category'] = category\n",
    "df.head()"
   ]
  },
  {
   "cell_type": "code",
   "execution_count": 3,
   "metadata": {},
   "outputs": [
    {
     "name": "stderr",
     "output_type": "stream",
     "text": [
      "Using TensorFlow backend.\n"
     ]
    },
    {
     "data": {
      "text/html": [
       "<div>\n",
       "<style scoped>\n",
       "    .dataframe tbody tr th:only-of-type {\n",
       "        vertical-align: middle;\n",
       "    }\n",
       "\n",
       "    .dataframe tbody tr th {\n",
       "        vertical-align: top;\n",
       "    }\n",
       "\n",
       "    .dataframe thead th {\n",
       "        text-align: right;\n",
       "    }\n",
       "</style>\n",
       "<table border=\"1\" class=\"dataframe\">\n",
       "  <thead>\n",
       "    <tr style=\"text-align: right;\">\n",
       "      <th></th>\n",
       "      <th>path</th>\n",
       "      <th>category</th>\n",
       "    </tr>\n",
       "  </thead>\n",
       "  <tbody>\n",
       "    <tr>\n",
       "      <th>0</th>\n",
       "      <td>../dataset/train/ALB/img_00003.jpg</td>\n",
       "      <td>[1.0, 0.0, 0.0, 0.0, 0.0, 0.0, 0.0, 0.0]</td>\n",
       "    </tr>\n",
       "    <tr>\n",
       "      <th>1</th>\n",
       "      <td>../dataset/train/ALB/img_00010.jpg</td>\n",
       "      <td>[1.0, 0.0, 0.0, 0.0, 0.0, 0.0, 0.0, 0.0]</td>\n",
       "    </tr>\n",
       "    <tr>\n",
       "      <th>2</th>\n",
       "      <td>../dataset/train/ALB/img_00012.jpg</td>\n",
       "      <td>[1.0, 0.0, 0.0, 0.0, 0.0, 0.0, 0.0, 0.0]</td>\n",
       "    </tr>\n",
       "    <tr>\n",
       "      <th>3</th>\n",
       "      <td>../dataset/train/ALB/img_00015.jpg</td>\n",
       "      <td>[1.0, 0.0, 0.0, 0.0, 0.0, 0.0, 0.0, 0.0]</td>\n",
       "    </tr>\n",
       "    <tr>\n",
       "      <th>4</th>\n",
       "      <td>../dataset/train/ALB/img_00019.jpg</td>\n",
       "      <td>[1.0, 0.0, 0.0, 0.0, 0.0, 0.0, 0.0, 0.0]</td>\n",
       "    </tr>\n",
       "  </tbody>\n",
       "</table>\n",
       "</div>"
      ],
      "text/plain": [
       "                                 path  \\\n",
       "0  ../dataset/train/ALB/img_00003.jpg   \n",
       "1  ../dataset/train/ALB/img_00010.jpg   \n",
       "2  ../dataset/train/ALB/img_00012.jpg   \n",
       "3  ../dataset/train/ALB/img_00015.jpg   \n",
       "4  ../dataset/train/ALB/img_00019.jpg   \n",
       "\n",
       "                                   category  \n",
       "0  [1.0, 0.0, 0.0, 0.0, 0.0, 0.0, 0.0, 0.0]  \n",
       "1  [1.0, 0.0, 0.0, 0.0, 0.0, 0.0, 0.0, 0.0]  \n",
       "2  [1.0, 0.0, 0.0, 0.0, 0.0, 0.0, 0.0, 0.0]  \n",
       "3  [1.0, 0.0, 0.0, 0.0, 0.0, 0.0, 0.0, 0.0]  \n",
       "4  [1.0, 0.0, 0.0, 0.0, 0.0, 0.0, 0.0, 0.0]  "
      ]
     },
     "execution_count": 3,
     "metadata": {},
     "output_type": "execute_result"
    }
   ],
   "source": [
    "from sklearn.preprocessing import LabelEncoder\n",
    "from keras.utils.np_utils import to_categorical\n",
    "unique_classes = len(np.unique(df[\"category\"]))\n",
    "lbc = LabelEncoder()\n",
    "lbc = lbc.fit_transform(df[\"category\"])\n",
    "hotEnc = to_categorical(lbc, num_classes=unique_classes)\n",
    "df[\"category\"] = list(hotEnc)\n",
    "df.head()"
   ]
  },
  {
   "cell_type": "code",
   "execution_count": 4,
   "metadata": {},
   "outputs": [],
   "source": [
    "from keras.preprocessing.image import ImageDataGenerator\n",
    "DIM = (128, 128)\n",
    "img_gen = ImageDataGenerator(\n",
    "    samplewise_center=True,\n",
    "    samplewise_std_normalization=True,\n",
    "    horizontal_flip=True,\n",
    "    vertical_flip=False,\n",
    "    height_shift_range=0.05,\n",
    "    width_shift_range=0.1,\n",
    "    rotation_range=5,\n",
    "    shear_range=0.1,\n",
    "    fill_mode=\"reflect\",\n",
    "    zoom_range=0.15\n",
    ")"
   ]
  },
  {
   "cell_type": "code",
   "execution_count": 5,
   "metadata": {},
   "outputs": [],
   "source": [
    "def flow_from_dataframe(img_data, df, x_col, y_col, **args):\n",
    "    base_dir = os.path.dirname(df[x_col].values[0])\n",
    "    df_gen = img_gen.flow_from_directory(base_dir, class_mode=\"sparse\", **args)\n",
    "    df_gen.filenames = df[x_col].values\n",
    "    df_gen.classes = np.stack(df[y_col].values)\n",
    "    df_gen.samples = df.shape[0]\n",
    "    df_gen.n = df.shape[0]\n",
    "    df_gen._set_index_array()\n",
    "    df_gen.directory = ''\n",
    "    return df_gen"
   ]
  },
  {
   "cell_type": "code",
   "execution_count": 6,
   "metadata": {},
   "outputs": [
    {
     "data": {
      "text/plain": [
       "(2832, 2)"
      ]
     },
     "execution_count": 6,
     "metadata": {},
     "output_type": "execute_result"
    },
    {
     "data": {
      "text/plain": [
       "(945, 2)"
      ]
     },
     "execution_count": 6,
     "metadata": {},
     "output_type": "execute_result"
    }
   ],
   "source": [
    "from sklearn.model_selection import train_test_split\n",
    "train_df, valid_df = train_test_split(df, test_size=0.25, random_state=4)\n",
    "train_df.shape\n",
    "valid_df.shape"
   ]
  },
  {
   "cell_type": "code",
   "execution_count": 7,
   "metadata": {},
   "outputs": [
    {
     "name": "stdout",
     "output_type": "stream",
     "text": [
      "Found 0 images belonging to 0 classes.\n",
      "Found 0 images belonging to 0 classes.\n",
      "Found 0 images belonging to 0 classes.\n"
     ]
    }
   ],
   "source": [
    "train_gen = flow_from_dataframe(img_gen, train_df, x_col=\"path\", y_col=\"category\", target_size=DIM, batch_size=128)\n",
    "valid_gen = flow_from_dataframe(img_gen, valid_df, x_col=\"path\", y_col=\"category\", target_size=DIM, batch_size=256)\n",
    "test_x, test_y = next(flow_from_dataframe(img_gen, valid_df, x_col=\"path\", y_col=\"category\", target_size=DIM, batch_size=1024))"
   ]
  },
  {
   "cell_type": "code",
   "execution_count": 8,
   "metadata": {},
   "outputs": [
    {
     "data": {
      "text/plain": [
       "(128, 128, 128, 3)"
      ]
     },
     "execution_count": 8,
     "metadata": {},
     "output_type": "execute_result"
    },
    {
     "data": {
      "text/plain": [
       "(128, 8)"
      ]
     },
     "execution_count": 8,
     "metadata": {},
     "output_type": "execute_result"
    },
    {
     "data": {
      "text/plain": [
       "(128, 128, 3)"
      ]
     },
     "execution_count": 8,
     "metadata": {},
     "output_type": "execute_result"
    }
   ],
   "source": [
    "train_x, train_y = next(train_gen)\n",
    "train_x.shape\n",
    "train_y.shape\n",
    "img_dim = train_x.shape[1:]\n",
    "img_dim"
   ]
  },
  {
   "cell_type": "code",
   "execution_count": 9,
   "metadata": {},
   "outputs": [],
   "source": [
    "from keras.applications.vgg16 import VGG16\n",
    "from keras.models import Model\n",
    "from keras.layers import Dense, Input, Flatten, Dropout\n",
    "from keras.layers.normalization import BatchNormalization\n",
    "from sklearn.metrics import fbeta_score"
   ]
  },
  {
   "cell_type": "code",
   "execution_count": 10,
   "metadata": {},
   "outputs": [
    {
     "name": "stdout",
     "output_type": "stream",
     "text": [
      "_________________________________________________________________\n",
      "Layer (type)                 Output Shape              Param #   \n",
      "=================================================================\n",
      "input_1 (InputLayer)         (None, 128, 128, 3)       0         \n",
      "_________________________________________________________________\n",
      "batch_normalization_1 (Batch (None, 128, 128, 3)       12        \n",
      "_________________________________________________________________\n",
      "vgg16 (Model)                (None, 4, 4, 512)         14714688  \n",
      "_________________________________________________________________\n",
      "flatten_1 (Flatten)          (None, 8192)              0         \n",
      "_________________________________________________________________\n",
      "dense_1 (Dense)              (None, 8)                 65544     \n",
      "=================================================================\n",
      "Total params: 14,780,244\n",
      "Trainable params: 14,780,238\n",
      "Non-trainable params: 6\n",
      "_________________________________________________________________\n"
     ]
    }
   ],
   "source": [
    "inp_tens = Input(shape=img_dim)\n",
    "base_model = VGG16(include_top=False, input_shape=img_dim)\n",
    "bn = BatchNormalization()(inp_tens)\n",
    "x = base_model(bn)\n",
    "x = Flatten()(x)\n",
    "output = Dense(unique_classes, activation=\"softmax\")(x)\n",
    "model = Model(inp_tens, output)\n",
    "model.summary()"
   ]
  },
  {
   "cell_type": "code",
   "execution_count": 11,
   "metadata": {},
   "outputs": [],
   "source": [
    "from keras.callbacks import ModelCheckpoint, EarlyStopping, ReduceLROnPlateau, History\n",
    "from keras.optimizers import Adam"
   ]
  },
  {
   "cell_type": "code",
   "execution_count": 12,
   "metadata": {},
   "outputs": [],
   "source": [
    "history = History()\n",
    "callbacks = [history, EarlyStopping(monitor=\"val_loss\", patience=3, verbose=1, min_delta=1e-4), ReduceLROnPlateau(monitor=\"val_loss\", factor=0.1, patience=1,\n",
    "                                                                                                                 cooldown=0, min_lr=1e-7, verbose=1),\n",
    "            ModelCheckpoint(filepath=\"weights.best.hd5\", verbose=1, save_best_only=True, save_weights_only=True, mode=\"auto\")]"
   ]
  },
  {
   "cell_type": "code",
   "execution_count": 13,
   "metadata": {},
   "outputs": [],
   "source": [
    "model.compile(optimizer=Adam(lr=1e-4), loss=\"binary_crossentropy\", metrics=[\"accuracy\"])"
   ]
  },
  {
   "cell_type": "code",
   "execution_count": 14,
   "metadata": {},
   "outputs": [
    {
     "data": {
      "text/plain": [
       "5.53125"
      ]
     },
     "execution_count": 14,
     "metadata": {},
     "output_type": "execute_result"
    }
   ],
   "source": [
    "batch_size = 512\n",
    "steps_per_epoch = len(train_df) / batch_size\n",
    "steps_per_epoch"
   ]
  },
  {
   "cell_type": "code",
   "execution_count": 15,
   "metadata": {},
   "outputs": [],
   "source": [
    "# model.fit_generator(train_gen, steps_per_epoch=steps_per_epoch, validation_data=(test_x, test_y), epochs=15, callbacks=callbacks, use_multiprocessing=True, workers=-1)"
   ]
  },
  {
   "cell_type": "code",
   "execution_count": 16,
   "metadata": {},
   "outputs": [],
   "source": [
    "model.load_weights(\"weights.best.hd5\")"
   ]
  },
  {
   "cell_type": "code",
   "execution_count": 17,
   "metadata": {},
   "outputs": [
    {
     "data": {
      "text/plain": [
       "['../dataset/test_stg1\\\\img_00005.jpg',\n",
       " '../dataset/test_stg1\\\\img_00007.jpg',\n",
       " '../dataset/test_stg1\\\\img_00009.jpg',\n",
       " '../dataset/test_stg1\\\\img_00018.jpg',\n",
       " '../dataset/test_stg1\\\\img_00027.jpg']"
      ]
     },
     "execution_count": 17,
     "metadata": {},
     "output_type": "execute_result"
    },
    {
     "data": {
      "text/html": [
       "<div>\n",
       "<style scoped>\n",
       "    .dataframe tbody tr th:only-of-type {\n",
       "        vertical-align: middle;\n",
       "    }\n",
       "\n",
       "    .dataframe tbody tr th {\n",
       "        vertical-align: top;\n",
       "    }\n",
       "\n",
       "    .dataframe thead th {\n",
       "        text-align: right;\n",
       "    }\n",
       "</style>\n",
       "<table border=\"1\" class=\"dataframe\">\n",
       "  <thead>\n",
       "    <tr style=\"text-align: right;\">\n",
       "      <th></th>\n",
       "      <th>path</th>\n",
       "      <th>image</th>\n",
       "    </tr>\n",
       "  </thead>\n",
       "  <tbody>\n",
       "    <tr>\n",
       "      <th>0</th>\n",
       "      <td>../dataset/test_stg1/img_00005.jpg</td>\n",
       "      <td>img_00005.jpg</td>\n",
       "    </tr>\n",
       "    <tr>\n",
       "      <th>1</th>\n",
       "      <td>../dataset/test_stg1/img_00007.jpg</td>\n",
       "      <td>img_00007.jpg</td>\n",
       "    </tr>\n",
       "    <tr>\n",
       "      <th>2</th>\n",
       "      <td>../dataset/test_stg1/img_00009.jpg</td>\n",
       "      <td>img_00009.jpg</td>\n",
       "    </tr>\n",
       "    <tr>\n",
       "      <th>3</th>\n",
       "      <td>../dataset/test_stg1/img_00018.jpg</td>\n",
       "      <td>img_00018.jpg</td>\n",
       "    </tr>\n",
       "    <tr>\n",
       "      <th>4</th>\n",
       "      <td>../dataset/test_stg1/img_00027.jpg</td>\n",
       "      <td>img_00027.jpg</td>\n",
       "    </tr>\n",
       "  </tbody>\n",
       "</table>\n",
       "</div>"
      ],
      "text/plain": [
       "                                 path          image\n",
       "0  ../dataset/test_stg1/img_00005.jpg  img_00005.jpg\n",
       "1  ../dataset/test_stg1/img_00007.jpg  img_00007.jpg\n",
       "2  ../dataset/test_stg1/img_00009.jpg  img_00009.jpg\n",
       "3  ../dataset/test_stg1/img_00018.jpg  img_00018.jpg\n",
       "4  ../dataset/test_stg1/img_00027.jpg  img_00027.jpg"
      ]
     },
     "execution_count": 17,
     "metadata": {},
     "output_type": "execute_result"
    }
   ],
   "source": [
    "from glob import glob\n",
    "test_files_path = glob(test_path + \"*jpg\", recursive=True)\n",
    "test_files_path[:5]\n",
    "submissionDf = pd.DataFrame(index=None, columns=[\"path\", \"image\"])\n",
    "submissionDf[\"path\"] = test_files_path\n",
    "test_files_path = [x.replace(\"\\\\\", \"/\", 2) for x in test_files_path]\n",
    "path_split = [x.split(\"/\") for x in test_files_path]\n",
    "image_name = [x[-1] for x in path_split]\n",
    "submissionDf[\"path\"] = test_files_path\n",
    "submissionDf[\"image\"] = image_name\n",
    "submissionDf.head()"
   ]
  },
  {
   "cell_type": "code",
   "execution_count": 18,
   "metadata": {},
   "outputs": [
    {
     "name": "stdout",
     "output_type": "stream",
     "text": [
      "Found 0 images belonging to 0 classes.\n"
     ]
    }
   ],
   "source": [
    "test_gen = flow_from_dataframe(img_gen, submissionDf, x_col=\"path\", y_col=\"image\", target_size=DIM, batch_size=256)"
   ]
  },
  {
   "cell_type": "code",
   "execution_count": 19,
   "metadata": {},
   "outputs": [
    {
     "name": "stdout",
     "output_type": "stream",
     "text": [
      "4/4 [==============================] - 210s 52s/step\n"
     ]
    }
   ],
   "source": [
    "pred = model.predict_generator(test_gen, verbose=1, steps=4)"
   ]
  },
  {
   "cell_type": "code",
   "execution_count": 21,
   "metadata": {},
   "outputs": [
    {
     "data": {
      "text/plain": [
       "1000"
      ]
     },
     "execution_count": 21,
     "metadata": {},
     "output_type": "execute_result"
    }
   ],
   "source": [
    "len(pred)"
   ]
  },
  {
   "cell_type": "code",
   "execution_count": 18,
   "metadata": {},
   "outputs": [],
   "source": [
    "unique_labels = np.unique(category)"
   ]
  },
  {
   "cell_type": "code",
   "execution_count": 20,
   "metadata": {},
   "outputs": [
    {
     "data": {
      "text/plain": [
       "array([0, 1, 2, 3, 4, 5, 6, 7], dtype=int64)"
      ]
     },
     "execution_count": 20,
     "metadata": {},
     "output_type": "execute_result"
    }
   ],
   "source": [
    "lbc = LabelEncoder()\n",
    "lbc.fit_transform(unique_labels)\n",
    "# for i, label in enumerate(list(unique_labels)):\n",
    "#     (i, label)\n",
    "#     submissionDf[label] = pred[:,i]"
   ]
  },
  {
   "cell_type": "code",
   "execution_count": 23,
   "metadata": {},
   "outputs": [
    {
     "data": {
      "text/html": [
       "<div>\n",
       "<style scoped>\n",
       "    .dataframe tbody tr th:only-of-type {\n",
       "        vertical-align: middle;\n",
       "    }\n",
       "\n",
       "    .dataframe tbody tr th {\n",
       "        vertical-align: top;\n",
       "    }\n",
       "\n",
       "    .dataframe thead th {\n",
       "        text-align: right;\n",
       "    }\n",
       "</style>\n",
       "<table border=\"1\" class=\"dataframe\">\n",
       "  <thead>\n",
       "    <tr style=\"text-align: right;\">\n",
       "      <th></th>\n",
       "      <th>path</th>\n",
       "      <th>image</th>\n",
       "      <th>ALB</th>\n",
       "      <th>BET</th>\n",
       "      <th>DOL</th>\n",
       "      <th>LAG</th>\n",
       "      <th>NoF</th>\n",
       "      <th>OTHER</th>\n",
       "      <th>SHARK</th>\n",
       "      <th>YFT</th>\n",
       "    </tr>\n",
       "  </thead>\n",
       "  <tbody>\n",
       "    <tr>\n",
       "      <th>0</th>\n",
       "      <td>../dataset/test_stg1/img_00005.jpg</td>\n",
       "      <td>img_00005.jpg</td>\n",
       "      <td>0.741991</td>\n",
       "      <td>0.063520</td>\n",
       "      <td>0.016341</td>\n",
       "      <td>0.006725</td>\n",
       "      <td>0.026776</td>\n",
       "      <td>0.034861</td>\n",
       "      <td>0.005176</td>\n",
       "      <td>0.104610</td>\n",
       "    </tr>\n",
       "    <tr>\n",
       "      <th>1</th>\n",
       "      <td>../dataset/test_stg1/img_00007.jpg</td>\n",
       "      <td>img_00007.jpg</td>\n",
       "      <td>0.054553</td>\n",
       "      <td>0.028322</td>\n",
       "      <td>0.021593</td>\n",
       "      <td>0.005758</td>\n",
       "      <td>0.846595</td>\n",
       "      <td>0.016415</td>\n",
       "      <td>0.012608</td>\n",
       "      <td>0.014156</td>\n",
       "    </tr>\n",
       "    <tr>\n",
       "      <th>2</th>\n",
       "      <td>../dataset/test_stg1/img_00009.jpg</td>\n",
       "      <td>img_00009.jpg</td>\n",
       "      <td>0.359687</td>\n",
       "      <td>0.038134</td>\n",
       "      <td>0.044493</td>\n",
       "      <td>0.016797</td>\n",
       "      <td>0.047116</td>\n",
       "      <td>0.107960</td>\n",
       "      <td>0.134772</td>\n",
       "      <td>0.251040</td>\n",
       "    </tr>\n",
       "    <tr>\n",
       "      <th>3</th>\n",
       "      <td>../dataset/test_stg1/img_00018.jpg</td>\n",
       "      <td>img_00018.jpg</td>\n",
       "      <td>0.563564</td>\n",
       "      <td>0.040681</td>\n",
       "      <td>0.034278</td>\n",
       "      <td>0.022685</td>\n",
       "      <td>0.148841</td>\n",
       "      <td>0.083026</td>\n",
       "      <td>0.024843</td>\n",
       "      <td>0.082081</td>\n",
       "    </tr>\n",
       "    <tr>\n",
       "      <th>4</th>\n",
       "      <td>../dataset/test_stg1/img_00027.jpg</td>\n",
       "      <td>img_00027.jpg</td>\n",
       "      <td>0.665456</td>\n",
       "      <td>0.039488</td>\n",
       "      <td>0.035409</td>\n",
       "      <td>0.016531</td>\n",
       "      <td>0.067312</td>\n",
       "      <td>0.108548</td>\n",
       "      <td>0.010110</td>\n",
       "      <td>0.057145</td>\n",
       "    </tr>\n",
       "  </tbody>\n",
       "</table>\n",
       "</div>"
      ],
      "text/plain": [
       "                                 path          image       ALB       BET  \\\n",
       "0  ../dataset/test_stg1/img_00005.jpg  img_00005.jpg  0.741991  0.063520   \n",
       "1  ../dataset/test_stg1/img_00007.jpg  img_00007.jpg  0.054553  0.028322   \n",
       "2  ../dataset/test_stg1/img_00009.jpg  img_00009.jpg  0.359687  0.038134   \n",
       "3  ../dataset/test_stg1/img_00018.jpg  img_00018.jpg  0.563564  0.040681   \n",
       "4  ../dataset/test_stg1/img_00027.jpg  img_00027.jpg  0.665456  0.039488   \n",
       "\n",
       "        DOL       LAG       NoF     OTHER     SHARK       YFT  \n",
       "0  0.016341  0.006725  0.026776  0.034861  0.005176  0.104610  \n",
       "1  0.021593  0.005758  0.846595  0.016415  0.012608  0.014156  \n",
       "2  0.044493  0.016797  0.047116  0.107960  0.134772  0.251040  \n",
       "3  0.034278  0.022685  0.148841  0.083026  0.024843  0.082081  \n",
       "4  0.035409  0.016531  0.067312  0.108548  0.010110  0.057145  "
      ]
     },
     "execution_count": 23,
     "metadata": {},
     "output_type": "execute_result"
    }
   ],
   "source": [
    "submissionDf.head()\n",
    "# submissionDf.drop(\"label\", axis=1, inplace=True)\n",
    "# submissionDf.head()"
   ]
  },
  {
   "cell_type": "code",
   "execution_count": 24,
   "metadata": {},
   "outputs": [],
   "source": [
    "submissionDf.to_csv(\"predictions_test_stage_1.csv\")"
   ]
  },
  {
   "cell_type": "code",
   "execution_count": 25,
   "metadata": {},
   "outputs": [
    {
     "data": {
      "text/html": [
       "<div>\n",
       "<style scoped>\n",
       "    .dataframe tbody tr th:only-of-type {\n",
       "        vertical-align: middle;\n",
       "    }\n",
       "\n",
       "    .dataframe tbody tr th {\n",
       "        vertical-align: top;\n",
       "    }\n",
       "\n",
       "    .dataframe thead th {\n",
       "        text-align: right;\n",
       "    }\n",
       "</style>\n",
       "<table border=\"1\" class=\"dataframe\">\n",
       "  <thead>\n",
       "    <tr style=\"text-align: right;\">\n",
       "      <th></th>\n",
       "      <th>path</th>\n",
       "      <th>image</th>\n",
       "      <th>ALB</th>\n",
       "      <th>BET</th>\n",
       "      <th>DOL</th>\n",
       "      <th>LAG</th>\n",
       "      <th>NoF</th>\n",
       "      <th>OTHER</th>\n",
       "      <th>SHARK</th>\n",
       "      <th>YFT</th>\n",
       "      <th>PREDICTED</th>\n",
       "    </tr>\n",
       "  </thead>\n",
       "  <tbody>\n",
       "    <tr>\n",
       "      <th>0</th>\n",
       "      <td>../dataset/test_stg1/img_00005.jpg</td>\n",
       "      <td>img_00005.jpg</td>\n",
       "      <td>0.741991</td>\n",
       "      <td>0.063520</td>\n",
       "      <td>0.016341</td>\n",
       "      <td>0.006725</td>\n",
       "      <td>0.026776</td>\n",
       "      <td>0.034861</td>\n",
       "      <td>0.005176</td>\n",
       "      <td>0.104610</td>\n",
       "      <td>ALB</td>\n",
       "    </tr>\n",
       "    <tr>\n",
       "      <th>1</th>\n",
       "      <td>../dataset/test_stg1/img_00007.jpg</td>\n",
       "      <td>img_00007.jpg</td>\n",
       "      <td>0.054553</td>\n",
       "      <td>0.028322</td>\n",
       "      <td>0.021593</td>\n",
       "      <td>0.005758</td>\n",
       "      <td>0.846595</td>\n",
       "      <td>0.016415</td>\n",
       "      <td>0.012608</td>\n",
       "      <td>0.014156</td>\n",
       "      <td>NoF</td>\n",
       "    </tr>\n",
       "    <tr>\n",
       "      <th>2</th>\n",
       "      <td>../dataset/test_stg1/img_00009.jpg</td>\n",
       "      <td>img_00009.jpg</td>\n",
       "      <td>0.359687</td>\n",
       "      <td>0.038134</td>\n",
       "      <td>0.044493</td>\n",
       "      <td>0.016797</td>\n",
       "      <td>0.047116</td>\n",
       "      <td>0.107960</td>\n",
       "      <td>0.134772</td>\n",
       "      <td>0.251040</td>\n",
       "      <td>ALB</td>\n",
       "    </tr>\n",
       "    <tr>\n",
       "      <th>3</th>\n",
       "      <td>../dataset/test_stg1/img_00018.jpg</td>\n",
       "      <td>img_00018.jpg</td>\n",
       "      <td>0.563564</td>\n",
       "      <td>0.040681</td>\n",
       "      <td>0.034278</td>\n",
       "      <td>0.022685</td>\n",
       "      <td>0.148841</td>\n",
       "      <td>0.083026</td>\n",
       "      <td>0.024843</td>\n",
       "      <td>0.082081</td>\n",
       "      <td>ALB</td>\n",
       "    </tr>\n",
       "    <tr>\n",
       "      <th>4</th>\n",
       "      <td>../dataset/test_stg1/img_00027.jpg</td>\n",
       "      <td>img_00027.jpg</td>\n",
       "      <td>0.665456</td>\n",
       "      <td>0.039488</td>\n",
       "      <td>0.035409</td>\n",
       "      <td>0.016531</td>\n",
       "      <td>0.067312</td>\n",
       "      <td>0.108548</td>\n",
       "      <td>0.010110</td>\n",
       "      <td>0.057145</td>\n",
       "      <td>ALB</td>\n",
       "    </tr>\n",
       "  </tbody>\n",
       "</table>\n",
       "</div>"
      ],
      "text/plain": [
       "                                 path          image       ALB       BET  \\\n",
       "0  ../dataset/test_stg1/img_00005.jpg  img_00005.jpg  0.741991  0.063520   \n",
       "1  ../dataset/test_stg1/img_00007.jpg  img_00007.jpg  0.054553  0.028322   \n",
       "2  ../dataset/test_stg1/img_00009.jpg  img_00009.jpg  0.359687  0.038134   \n",
       "3  ../dataset/test_stg1/img_00018.jpg  img_00018.jpg  0.563564  0.040681   \n",
       "4  ../dataset/test_stg1/img_00027.jpg  img_00027.jpg  0.665456  0.039488   \n",
       "\n",
       "        DOL       LAG       NoF     OTHER     SHARK       YFT PREDICTED  \n",
       "0  0.016341  0.006725  0.026776  0.034861  0.005176  0.104610       ALB  \n",
       "1  0.021593  0.005758  0.846595  0.016415  0.012608  0.014156       NoF  \n",
       "2  0.044493  0.016797  0.047116  0.107960  0.134772  0.251040       ALB  \n",
       "3  0.034278  0.022685  0.148841  0.083026  0.024843  0.082081       ALB  \n",
       "4  0.035409  0.016531  0.067312  0.108548  0.010110  0.057145       ALB  "
      ]
     },
     "execution_count": 25,
     "metadata": {},
     "output_type": "execute_result"
    }
   ],
   "source": [
    "temp = submissionDf.iloc[:,2:]\n",
    "temp = temp.idxmax(axis = 1)\n",
    "submissionDf[\"PREDICTED\"] = temp\n",
    "submissionDf.head()"
   ]
  },
  {
   "cell_type": "code",
   "execution_count": 21,
   "metadata": {},
   "outputs": [
    {
     "data": {
      "text/plain": [
       "array([0, 1, 2, 3, 4, 5, 6, 7], dtype=int64)"
      ]
     },
     "execution_count": 21,
     "metadata": {},
     "output_type": "execute_result"
    },
    {
     "data": {
      "text/plain": [
       "{'ALB': 0,\n",
       " 'BET': 1,\n",
       " 'DOL': 2,\n",
       " 'LAG': 3,\n",
       " 'NoF': 4,\n",
       " 'OTHER': 5,\n",
       " 'SHARK': 6,\n",
       " 'YFT': 7}"
      ]
     },
     "execution_count": 21,
     "metadata": {},
     "output_type": "execute_result"
    },
    {
     "data": {
      "text/plain": [
       "{0: 'ALB',\n",
       " 1: 'BET',\n",
       " 2: 'DOL',\n",
       " 3: 'LAG',\n",
       " 4: 'NoF',\n",
       " 5: 'OTHER',\n",
       " 6: 'SHARK',\n",
       " 7: 'YFT'}"
      ]
     },
     "execution_count": 21,
     "metadata": {},
     "output_type": "execute_result"
    }
   ],
   "source": [
    "from sklearn.metrics.classification import classification_report\n",
    "lbc = LabelEncoder()\n",
    "lbc.fit_transform(unique_labels)\n",
    "label_map = dict(zip(lbc.classes_, range(len(lbc.classes_))))\n",
    "inv_label_map = dict(zip(range(len(lbc.classes_)), lbc.classes_))\n",
    "label_map\n",
    "inv_label_map"
   ]
  },
  {
   "cell_type": "code",
   "execution_count": 22,
   "metadata": {},
   "outputs": [
    {
     "name": "stdout",
     "output_type": "stream",
     "text": [
      "4/4 [==============================] - 190s 48s/step\n"
     ]
    }
   ],
   "source": [
    "valid_pred = model.predict_generator(valid_gen, verbose=1, steps=4)"
   ]
  },
  {
   "cell_type": "code",
   "execution_count": 23,
   "metadata": {},
   "outputs": [
    {
     "data": {
      "text/html": [
       "<div>\n",
       "<style scoped>\n",
       "    .dataframe tbody tr th:only-of-type {\n",
       "        vertical-align: middle;\n",
       "    }\n",
       "\n",
       "    .dataframe tbody tr th {\n",
       "        vertical-align: top;\n",
       "    }\n",
       "\n",
       "    .dataframe thead th {\n",
       "        text-align: right;\n",
       "    }\n",
       "</style>\n",
       "<table border=\"1\" class=\"dataframe\">\n",
       "  <thead>\n",
       "    <tr style=\"text-align: right;\">\n",
       "      <th></th>\n",
       "      <th>ALB</th>\n",
       "      <th>BET</th>\n",
       "      <th>DOL</th>\n",
       "      <th>LAG</th>\n",
       "      <th>NoF</th>\n",
       "      <th>OTHER</th>\n",
       "      <th>SHARK</th>\n",
       "      <th>YFT</th>\n",
       "    </tr>\n",
       "  </thead>\n",
       "  <tbody>\n",
       "    <tr>\n",
       "      <th>0</th>\n",
       "      <td>0.281608</td>\n",
       "      <td>0.059779</td>\n",
       "      <td>0.054064</td>\n",
       "      <td>0.018561</td>\n",
       "      <td>0.117386</td>\n",
       "      <td>0.064064</td>\n",
       "      <td>0.164949</td>\n",
       "      <td>0.239589</td>\n",
       "    </tr>\n",
       "    <tr>\n",
       "      <th>1</th>\n",
       "      <td>0.085895</td>\n",
       "      <td>0.031697</td>\n",
       "      <td>0.028718</td>\n",
       "      <td>0.005075</td>\n",
       "      <td>0.759327</td>\n",
       "      <td>0.043788</td>\n",
       "      <td>0.017414</td>\n",
       "      <td>0.028085</td>\n",
       "    </tr>\n",
       "    <tr>\n",
       "      <th>2</th>\n",
       "      <td>0.193128</td>\n",
       "      <td>0.063256</td>\n",
       "      <td>0.089204</td>\n",
       "      <td>0.011810</td>\n",
       "      <td>0.108013</td>\n",
       "      <td>0.053056</td>\n",
       "      <td>0.072625</td>\n",
       "      <td>0.408909</td>\n",
       "    </tr>\n",
       "    <tr>\n",
       "      <th>3</th>\n",
       "      <td>0.141833</td>\n",
       "      <td>0.055699</td>\n",
       "      <td>0.037708</td>\n",
       "      <td>0.008507</td>\n",
       "      <td>0.005079</td>\n",
       "      <td>0.055148</td>\n",
       "      <td>0.009460</td>\n",
       "      <td>0.686566</td>\n",
       "    </tr>\n",
       "    <tr>\n",
       "      <th>4</th>\n",
       "      <td>0.487018</td>\n",
       "      <td>0.042125</td>\n",
       "      <td>0.027779</td>\n",
       "      <td>0.010026</td>\n",
       "      <td>0.031473</td>\n",
       "      <td>0.109275</td>\n",
       "      <td>0.074633</td>\n",
       "      <td>0.217672</td>\n",
       "    </tr>\n",
       "  </tbody>\n",
       "</table>\n",
       "</div>"
      ],
      "text/plain": [
       "        ALB       BET       DOL       LAG       NoF     OTHER     SHARK  \\\n",
       "0  0.281608  0.059779  0.054064  0.018561  0.117386  0.064064  0.164949   \n",
       "1  0.085895  0.031697  0.028718  0.005075  0.759327  0.043788  0.017414   \n",
       "2  0.193128  0.063256  0.089204  0.011810  0.108013  0.053056  0.072625   \n",
       "3  0.141833  0.055699  0.037708  0.008507  0.005079  0.055148  0.009460   \n",
       "4  0.487018  0.042125  0.027779  0.010026  0.031473  0.109275  0.074633   \n",
       "\n",
       "        YFT  \n",
       "0  0.239589  \n",
       "1  0.028085  \n",
       "2  0.408909  \n",
       "3  0.686566  \n",
       "4  0.217672  "
      ]
     },
     "execution_count": 23,
     "metadata": {},
     "output_type": "execute_result"
    }
   ],
   "source": [
    "ordered_cat = [\"ALB\", \"BET\", \"DOL\", \"LAG\", \"NoF\", \"OTHER\", \"SHARK\", \"YFT\"]\n",
    "valid_pred_df = pd.DataFrame(valid_pred, columns=ordered_cat, index=None)\n",
    "valid_pred_df.to_csv(\"valid_preds.csv\", index=False)\n",
    "valid_pred_df.head()"
   ]
  },
  {
   "cell_type": "code",
   "execution_count": 24,
   "metadata": {},
   "outputs": [
    {
     "data": {
      "text/plain": [
       "945"
      ]
     },
     "execution_count": 24,
     "metadata": {},
     "output_type": "execute_result"
    }
   ],
   "source": [
    "len(valid_pred)"
   ]
  },
  {
   "cell_type": "code",
   "execution_count": 25,
   "metadata": {},
   "outputs": [
    {
     "data": {
      "text/plain": [
       "['YFT', 'BET', 'ALB', 'YFT', 'YFT']"
      ]
     },
     "execution_count": 25,
     "metadata": {},
     "output_type": "execute_result"
    }
   ],
   "source": [
    "temp = valid_df[\"category\"]\n",
    "y_true = []\n",
    "for val in temp:\n",
    "    y_true.append(inv_label_map[np.argmax(val)])\n",
    "y_true[:5]"
   ]
  },
  {
   "cell_type": "code",
   "execution_count": 41,
   "metadata": {},
   "outputs": [
    {
     "data": {
      "text/html": [
       "<div>\n",
       "<style scoped>\n",
       "    .dataframe tbody tr th:only-of-type {\n",
       "        vertical-align: middle;\n",
       "    }\n",
       "\n",
       "    .dataframe tbody tr th {\n",
       "        vertical-align: top;\n",
       "    }\n",
       "\n",
       "    .dataframe thead th {\n",
       "        text-align: right;\n",
       "    }\n",
       "</style>\n",
       "<table border=\"1\" class=\"dataframe\">\n",
       "  <thead>\n",
       "    <tr style=\"text-align: right;\">\n",
       "      <th></th>\n",
       "      <th>ALB</th>\n",
       "      <th>BET</th>\n",
       "      <th>DOL</th>\n",
       "      <th>LAG</th>\n",
       "      <th>NoF</th>\n",
       "      <th>OTHER</th>\n",
       "      <th>SHARK</th>\n",
       "      <th>YFT</th>\n",
       "    </tr>\n",
       "  </thead>\n",
       "  <tbody>\n",
       "    <tr>\n",
       "      <th>0</th>\n",
       "      <td>0.281608</td>\n",
       "      <td>0.059779</td>\n",
       "      <td>0.054064</td>\n",
       "      <td>0.018561</td>\n",
       "      <td>0.117386</td>\n",
       "      <td>0.064064</td>\n",
       "      <td>0.164949</td>\n",
       "      <td>0.239589</td>\n",
       "    </tr>\n",
       "    <tr>\n",
       "      <th>1</th>\n",
       "      <td>0.085895</td>\n",
       "      <td>0.031697</td>\n",
       "      <td>0.028718</td>\n",
       "      <td>0.005075</td>\n",
       "      <td>0.759327</td>\n",
       "      <td>0.043788</td>\n",
       "      <td>0.017414</td>\n",
       "      <td>0.028085</td>\n",
       "    </tr>\n",
       "    <tr>\n",
       "      <th>2</th>\n",
       "      <td>0.193128</td>\n",
       "      <td>0.063256</td>\n",
       "      <td>0.089204</td>\n",
       "      <td>0.011810</td>\n",
       "      <td>0.108013</td>\n",
       "      <td>0.053056</td>\n",
       "      <td>0.072625</td>\n",
       "      <td>0.408909</td>\n",
       "    </tr>\n",
       "    <tr>\n",
       "      <th>3</th>\n",
       "      <td>0.141833</td>\n",
       "      <td>0.055699</td>\n",
       "      <td>0.037708</td>\n",
       "      <td>0.008507</td>\n",
       "      <td>0.005079</td>\n",
       "      <td>0.055148</td>\n",
       "      <td>0.009460</td>\n",
       "      <td>0.686566</td>\n",
       "    </tr>\n",
       "    <tr>\n",
       "      <th>4</th>\n",
       "      <td>0.487018</td>\n",
       "      <td>0.042125</td>\n",
       "      <td>0.027779</td>\n",
       "      <td>0.010026</td>\n",
       "      <td>0.031473</td>\n",
       "      <td>0.109275</td>\n",
       "      <td>0.074633</td>\n",
       "      <td>0.217672</td>\n",
       "    </tr>\n",
       "  </tbody>\n",
       "</table>\n",
       "</div>"
      ],
      "text/plain": [
       "        ALB       BET       DOL       LAG       NoF     OTHER     SHARK  \\\n",
       "0  0.281608  0.059779  0.054064  0.018561  0.117386  0.064064  0.164949   \n",
       "1  0.085895  0.031697  0.028718  0.005075  0.759327  0.043788  0.017414   \n",
       "2  0.193128  0.063256  0.089204  0.011810  0.108013  0.053056  0.072625   \n",
       "3  0.141833  0.055699  0.037708  0.008507  0.005079  0.055148  0.009460   \n",
       "4  0.487018  0.042125  0.027779  0.010026  0.031473  0.109275  0.074633   \n",
       "\n",
       "        YFT  \n",
       "0  0.239589  \n",
       "1  0.028085  \n",
       "2  0.408909  \n",
       "3  0.686566  \n",
       "4  0.217672  "
      ]
     },
     "execution_count": 41,
     "metadata": {},
     "output_type": "execute_result"
    },
    {
     "data": {
      "text/plain": [
       "0    ALB\n",
       "1    NoF\n",
       "2    YFT\n",
       "3    YFT\n",
       "4    ALB\n",
       "dtype: object"
      ]
     },
     "execution_count": 41,
     "metadata": {},
     "output_type": "execute_result"
    }
   ],
   "source": [
    "temp2 = valid_pred_df.iloc[:, :]\n",
    "temp2.head()\n",
    "y_pred = temp2.idxmax(axis=1)\n",
    "y_pred[:5]"
   ]
  },
  {
   "cell_type": "code",
   "execution_count": 45,
   "metadata": {},
   "outputs": [
    {
     "name": "stdout",
     "output_type": "stream",
     "text": [
      "              precision    recall  f1-score   support\n",
      "\n",
      "         ALB       0.44      0.80      0.57       424\n",
      "         BET       0.00      0.00      0.00        46\n",
      "         DOL       0.00      0.00      0.00        31\n",
      "         LAG       0.00      0.00      0.00        13\n",
      "         NoF       0.12      0.06      0.08       126\n",
      "       OTHER       0.00      0.00      0.00        76\n",
      "       SHARK       0.00      0.00      0.00        46\n",
      "         YFT       0.16      0.09      0.12       183\n",
      "\n",
      "   micro avg       0.39      0.39      0.39       945\n",
      "   macro avg       0.09      0.12      0.10       945\n",
      "weighted avg       0.25      0.39      0.29       945\n",
      "\n"
     ]
    }
   ],
   "source": [
    "report = classification_report(y_true, y_pred, target_names=ordered_cat)\n",
    "print(report)"
   ]
  },
  {
   "cell_type": "code",
   "execution_count": 47,
   "metadata": {},
   "outputs": [],
   "source": [
    "print(report, file=open(\"benchmarks.txt\", \"w\"))"
   ]
  },
  {
   "cell_type": "code",
   "execution_count": null,
   "metadata": {},
   "outputs": [],
   "source": []
  }
 ],
 "metadata": {
  "kernelspec": {
   "display_name": "Python 3",
   "language": "python",
   "name": "python3"
  },
  "language_info": {
   "codemirror_mode": {
    "name": "ipython",
    "version": 3
   },
   "file_extension": ".py",
   "mimetype": "text/x-python",
   "name": "python",
   "nbconvert_exporter": "python",
   "pygments_lexer": "ipython3",
   "version": "3.6.8"
  }
 },
 "nbformat": 4,
 "nbformat_minor": 2
}

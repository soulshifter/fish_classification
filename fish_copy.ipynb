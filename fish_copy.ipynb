{
 "cells": [
  {
   "cell_type": "code",
   "execution_count": 1,
   "metadata": {},
   "outputs": [],
   "source": [
    "# $ 0 u l $ h i f t e r\n",
    "import pandas as pd\n",
    "import numpy as np\n",
    "import os\n",
    "from os import listdir\n",
    "import warnings\n",
    "warnings.filterwarnings('ignore')\n",
    "from IPython.core.interactiveshell import InteractiveShell\n",
    "InteractiveShell.ast_node_interactivity = \"all\""
   ]
  },
  {
   "cell_type": "code",
   "execution_count": 2,
   "metadata": {},
   "outputs": [
    {
     "data": {
      "text/plain": [
       "['ALB', 'BET', 'DOL', 'LAG', 'NoF', 'OTHER', 'SHARK', 'YFT']"
      ]
     },
     "execution_count": 2,
     "metadata": {},
     "output_type": "execute_result"
    },
    {
     "data": {
      "text/plain": [
       "['img_00005.jpg',\n",
       " 'img_00007.jpg',\n",
       " 'img_00009.jpg',\n",
       " 'img_00018.jpg',\n",
       " 'img_00027.jpg',\n",
       " 'img_00030.jpg',\n",
       " 'img_00040.jpg',\n",
       " 'img_00046.jpg',\n",
       " 'img_00053.jpg',\n",
       " 'img_00071.jpg']"
      ]
     },
     "execution_count": 2,
     "metadata": {},
     "output_type": "execute_result"
    }
   ],
   "source": [
    "train_path = \"../dataset/train/\"\n",
    "subfolders = os.listdir(train_path)\n",
    "subfolders = subfolders[1:]\n",
    "test_path = \"../dataset/test_stg1/\"\n",
    "test_files = os.listdir(test_path)\n",
    "subfolders\n",
    "test_files[:10]"
   ]
  },
  {
   "cell_type": "code",
   "execution_count": 3,
   "metadata": {},
   "outputs": [],
   "source": [
    "def load_images_train(path):\n",
    "    subfolders = os.listdir(path)\n",
    "    images = []\n",
    "    category = []\n",
    "    for folder in subfolders[1:]:\n",
    "        entirePath = path + folder + \"/\"\n",
    "        imageList = os.listdir(entirePath)\n",
    "        for image in imageList:\n",
    "            img = entirePath + image\n",
    "            images.append(img)\n",
    "            category.append(folder)\n",
    "    return images, category"
   ]
  },
  {
   "cell_type": "code",
   "execution_count": 4,
   "metadata": {},
   "outputs": [
    {
     "data": {
      "text/plain": [
       "['../dataset/train/ALB/img_00003.jpg',\n",
       " '../dataset/train/ALB/img_00010.jpg',\n",
       " '../dataset/train/ALB/img_00012.jpg',\n",
       " '../dataset/train/ALB/img_00015.jpg',\n",
       " '../dataset/train/ALB/img_00019.jpg',\n",
       " '../dataset/train/ALB/img_00020.jpg',\n",
       " '../dataset/train/ALB/img_00029.jpg',\n",
       " '../dataset/train/ALB/img_00032.jpg',\n",
       " '../dataset/train/ALB/img_00037.jpg',\n",
       " '../dataset/train/ALB/img_00038.jpg']"
      ]
     },
     "execution_count": 4,
     "metadata": {},
     "output_type": "execute_result"
    },
    {
     "data": {
      "text/plain": [
       "['ALB', 'ALB', 'ALB', 'ALB', 'ALB', 'ALB', 'ALB', 'ALB', 'ALB', 'ALB']"
      ]
     },
     "execution_count": 4,
     "metadata": {},
     "output_type": "execute_result"
    }
   ],
   "source": [
    "images, category = load_images_train(train_path)\n",
    "images[:10]\n",
    "category[:10]"
   ]
  },
  {
   "cell_type": "code",
   "execution_count": 5,
   "metadata": {},
   "outputs": [
    {
     "data": {
      "text/plain": [
       "8"
      ]
     },
     "execution_count": 5,
     "metadata": {},
     "output_type": "execute_result"
    }
   ],
   "source": [
    "num_category = len(np.unique(category))\n",
    "num_category"
   ]
  },
  {
   "cell_type": "code",
   "execution_count": 6,
   "metadata": {},
   "outputs": [
    {
     "name": "stderr",
     "output_type": "stream",
     "text": [
      "Using TensorFlow backend.\n"
     ]
    },
    {
     "data": {
      "text/plain": [
       "array([[1., 0., 0., ..., 0., 0., 0.],\n",
       "       [1., 0., 0., ..., 0., 0., 0.],\n",
       "       [1., 0., 0., ..., 0., 0., 0.],\n",
       "       ...,\n",
       "       [0., 0., 0., ..., 0., 0., 1.],\n",
       "       [0., 0., 0., ..., 0., 0., 1.],\n",
       "       [0., 0., 0., ..., 0., 0., 1.]], dtype=float32)"
      ]
     },
     "execution_count": 6,
     "metadata": {},
     "output_type": "execute_result"
    }
   ],
   "source": [
    "from sklearn.preprocessing import LabelEncoder\n",
    "from keras.utils.np_utils import to_categorical\n",
    "lbc = LabelEncoder()\n",
    "encoded_category = lbc.fit_transform(category)\n",
    "category_ohe = to_categorical(encoded_category, num_classes=num_category)\n",
    "category_ohe"
   ]
  },
  {
   "cell_type": "code",
   "execution_count": 7,
   "metadata": {},
   "outputs": [],
   "source": [
    "from keras.preprocessing.image import ImageDataGenerator\n",
    "DIM = (128, 128)\n",
    "img_gen = ImageDataGenerator(samplewise_center=True,\n",
    "                            samplewise_std_normalization=True,\n",
    "                            horizontal_flip=True,\n",
    "                            vertical_flip=False,\n",
    "                            height_shift_range=0.05,\n",
    "                            width_shift_range=0.1,\n",
    "                            rotation_range=5,\n",
    "                            shear_range=0.01,\n",
    "                            fill_mode=\"reflect\",\n",
    "                            zoom_range=0.15)"
   ]
  },
  {
   "cell_type": "code",
   "execution_count": 8,
   "metadata": {},
   "outputs": [
    {
     "data": {
      "text/html": [
       "<div>\n",
       "<style scoped>\n",
       "    .dataframe tbody tr th:only-of-type {\n",
       "        vertical-align: middle;\n",
       "    }\n",
       "\n",
       "    .dataframe tbody tr th {\n",
       "        vertical-align: top;\n",
       "    }\n",
       "\n",
       "    .dataframe thead th {\n",
       "        text-align: right;\n",
       "    }\n",
       "</style>\n",
       "<table border=\"1\" class=\"dataframe\">\n",
       "  <thead>\n",
       "    <tr style=\"text-align: right;\">\n",
       "      <th></th>\n",
       "      <th>path</th>\n",
       "      <th>category</th>\n",
       "    </tr>\n",
       "  </thead>\n",
       "  <tbody>\n",
       "    <tr>\n",
       "      <th>0</th>\n",
       "      <td>../dataset/train/ALB/img_00003.jpg</td>\n",
       "      <td>[1.0, 0.0, 0.0, 0.0, 0.0, 0.0, 0.0, 0.0]</td>\n",
       "    </tr>\n",
       "    <tr>\n",
       "      <th>1</th>\n",
       "      <td>../dataset/train/ALB/img_00010.jpg</td>\n",
       "      <td>[1.0, 0.0, 0.0, 0.0, 0.0, 0.0, 0.0, 0.0]</td>\n",
       "    </tr>\n",
       "    <tr>\n",
       "      <th>2</th>\n",
       "      <td>../dataset/train/ALB/img_00012.jpg</td>\n",
       "      <td>[1.0, 0.0, 0.0, 0.0, 0.0, 0.0, 0.0, 0.0]</td>\n",
       "    </tr>\n",
       "    <tr>\n",
       "      <th>3</th>\n",
       "      <td>../dataset/train/ALB/img_00015.jpg</td>\n",
       "      <td>[1.0, 0.0, 0.0, 0.0, 0.0, 0.0, 0.0, 0.0]</td>\n",
       "    </tr>\n",
       "    <tr>\n",
       "      <th>4</th>\n",
       "      <td>../dataset/train/ALB/img_00019.jpg</td>\n",
       "      <td>[1.0, 0.0, 0.0, 0.0, 0.0, 0.0, 0.0, 0.0]</td>\n",
       "    </tr>\n",
       "  </tbody>\n",
       "</table>\n",
       "</div>"
      ],
      "text/plain": [
       "                                 path  \\\n",
       "0  ../dataset/train/ALB/img_00003.jpg   \n",
       "1  ../dataset/train/ALB/img_00010.jpg   \n",
       "2  ../dataset/train/ALB/img_00012.jpg   \n",
       "3  ../dataset/train/ALB/img_00015.jpg   \n",
       "4  ../dataset/train/ALB/img_00019.jpg   \n",
       "\n",
       "                                   category  \n",
       "0  [1.0, 0.0, 0.0, 0.0, 0.0, 0.0, 0.0, 0.0]  \n",
       "1  [1.0, 0.0, 0.0, 0.0, 0.0, 0.0, 0.0, 0.0]  \n",
       "2  [1.0, 0.0, 0.0, 0.0, 0.0, 0.0, 0.0, 0.0]  \n",
       "3  [1.0, 0.0, 0.0, 0.0, 0.0, 0.0, 0.0, 0.0]  \n",
       "4  [1.0, 0.0, 0.0, 0.0, 0.0, 0.0, 0.0, 0.0]  "
      ]
     },
     "execution_count": 8,
     "metadata": {},
     "output_type": "execute_result"
    }
   ],
   "source": [
    "df = pd.DataFrame(index=None, columns=[\"path\", \"category\"])\n",
    "df[\"path\"] = images\n",
    "df[\"category\"] = list(category_ohe)\n",
    "df.head()"
   ]
  },
  {
   "cell_type": "code",
   "execution_count": 9,
   "metadata": {},
   "outputs": [],
   "source": [
    "def flow_from_dataframe(img_gen, df, x_col, y_col, **args):\n",
    "    base_dir = os.path.dirname(df[x_col].values[0])\n",
    "    df_gen = img_gen.flow_from_directory(base_dir, class_mode=\"sparse\", **args)\n",
    "    df_gen.filenames = df[x_col].values\n",
    "    df_gen.classes = np.stack(df[y_col].values)\n",
    "    df_gen.samples = df.shape[0]\n",
    "    df_gen.n = df.shape[0]\n",
    "    df_gen._set_index_array()\n",
    "    df_gen.directory = \"\"\n",
    "    return df_gen"
   ]
  },
  {
   "cell_type": "code",
   "execution_count": 10,
   "metadata": {},
   "outputs": [
    {
     "data": {
      "text/plain": [
       "(2832, 2)"
      ]
     },
     "execution_count": 10,
     "metadata": {},
     "output_type": "execute_result"
    },
    {
     "data": {
      "text/plain": [
       "(945, 2)"
      ]
     },
     "execution_count": 10,
     "metadata": {},
     "output_type": "execute_result"
    }
   ],
   "source": [
    "from sklearn.model_selection import train_test_split\n",
    "train_df, valid_df = train_test_split(df, test_size=0.25, random_state=4)\n",
    "train_df.shape\n",
    "valid_df.shape"
   ]
  },
  {
   "cell_type": "code",
   "execution_count": 11,
   "metadata": {},
   "outputs": [
    {
     "name": "stdout",
     "output_type": "stream",
     "text": [
      "Found 0 images belonging to 0 classes.\n",
      "Found 0 images belonging to 0 classes.\n",
      "Found 0 images belonging to 0 classes.\n"
     ]
    }
   ],
   "source": [
    "train_gen = flow_from_dataframe(img_gen, train_df, \"path\", \"category\", target_size=DIM, batch_size=128)\n",
    "valid_gen = flow_from_dataframe(img_gen, valid_df, \"path\", \"category\", target_size=DIM, batch_size=256)\n",
    "test_x, test_y = next(flow_from_dataframe(img_gen, valid_df, \"path\", \"category\", target_size=DIM, batch_size=1024))"
   ]
  },
  {
   "cell_type": "code",
   "execution_count": 12,
   "metadata": {},
   "outputs": [
    {
     "data": {
      "text/plain": [
       "(128, 128, 128, 3)"
      ]
     },
     "execution_count": 12,
     "metadata": {},
     "output_type": "execute_result"
    },
    {
     "data": {
      "text/plain": [
       "(128, 8)"
      ]
     },
     "execution_count": 12,
     "metadata": {},
     "output_type": "execute_result"
    },
    {
     "data": {
      "text/plain": [
       "(128, 128, 3)"
      ]
     },
     "execution_count": 12,
     "metadata": {},
     "output_type": "execute_result"
    }
   ],
   "source": [
    "train_x, train_y = next(train_gen)\n",
    "train_x.shape\n",
    "train_y.shape\n",
    "img_dim = train_x.shape[1:]\n",
    "img_dim"
   ]
  },
  {
   "cell_type": "code",
   "execution_count": 13,
   "metadata": {},
   "outputs": [],
   "source": [
    "from keras.applications.vgg16 import VGG16\n",
    "from keras.models import Model\n",
    "from keras.layers import Dense, Input, Flatten, Dropout\n",
    "from keras.layers.normalization import BatchNormalization\n",
    "from sklearn.metrics import fbeta_score"
   ]
  },
  {
   "cell_type": "code",
   "execution_count": 14,
   "metadata": {},
   "outputs": [
    {
     "name": "stdout",
     "output_type": "stream",
     "text": [
      "_________________________________________________________________\n",
      "Layer (type)                 Output Shape              Param #   \n",
      "=================================================================\n",
      "input_1 (InputLayer)         (None, 128, 128, 3)       0         \n",
      "_________________________________________________________________\n",
      "batch_normalization_1 (Batch (None, 128, 128, 3)       12        \n",
      "_________________________________________________________________\n",
      "vgg16 (Model)                (None, 4, 4, 512)         14714688  \n",
      "_________________________________________________________________\n",
      "flatten_1 (Flatten)          (None, 8192)              0         \n",
      "_________________________________________________________________\n",
      "dense_1 (Dense)              (None, 8)                 65544     \n",
      "=================================================================\n",
      "Total params: 14,780,244\n",
      "Trainable params: 14,780,238\n",
      "Non-trainable params: 6\n",
      "_________________________________________________________________\n"
     ]
    }
   ],
   "source": [
    "inp_tens = Input(shape=img_dim)\n",
    "base_model = VGG16(include_top=False, input_shape=img_dim)\n",
    "bn = BatchNormalization()(inp_tens)\n",
    "x = base_model(bn)\n",
    "x = Flatten()(x)\n",
    "output = Dense(num_category, activation=\"softmax\")(x)\n",
    "model = Model(inp_tens, output)\n",
    "model.summary()"
   ]
  },
  {
   "cell_type": "code",
   "execution_count": 15,
   "metadata": {},
   "outputs": [],
   "source": [
    "from keras.callbacks import ModelCheckpoint, EarlyStopping, ReduceLROnPlateau, History\n",
    "from keras.optimizers import Adam"
   ]
  },
  {
   "cell_type": "code",
   "execution_count": 16,
   "metadata": {},
   "outputs": [],
   "source": [
    "history = History()\n",
    "callbacks = [history, EarlyStopping(monitor=\"val_loss\", patience=3, verbose=1, min_delta=1e-4), ReduceLROnPlateau(monitor=\"val_loss\", factor=0.1, patience=1,\n",
    "                                                                                                                 cooldown=0, min_lr=1e-7, verbose=1),\n",
    "            ModelCheckpoint(filepath=\"weights.best.hd5\", verbose=1, save_best_only=True, save_weights_only=True, mode=\"auto\")]"
   ]
  },
  {
   "cell_type": "code",
   "execution_count": 17,
   "metadata": {},
   "outputs": [],
   "source": [
    "model.compile(optimizer=Adam(lr=1e-4), loss=\"binary_crossentropy\", metrics=[\"accuracy\"])"
   ]
  },
  {
   "cell_type": "code",
   "execution_count": 18,
   "metadata": {},
   "outputs": [
    {
     "data": {
      "text/plain": [
       "5.53125"
      ]
     },
     "execution_count": 18,
     "metadata": {},
     "output_type": "execute_result"
    }
   ],
   "source": [
    "batch_size = 512\n",
    "steps_per_epoch = len(train_df) / batch_size\n",
    "steps_per_epoch"
   ]
  },
  {
   "cell_type": "code",
   "execution_count": 19,
   "metadata": {},
   "outputs": [],
   "source": [
    "# model.fit_generator(train_gen, steps_per_epoch=steps_per_epoch, validation_data=(test_x, test_y), epochs=15, callbacks=callbacks, use_multiprocessing=True, workers=-1)"
   ]
  },
  {
   "cell_type": "code",
   "execution_count": 20,
   "metadata": {},
   "outputs": [],
   "source": [
    "model.load_weights(\"weights.best.hd5\")"
   ]
  },
  {
   "cell_type": "code",
   "execution_count": 21,
   "metadata": {},
   "outputs": [
    {
     "data": {
      "text/plain": [
       "['../dataset/test_stg1\\\\img_00005.jpg',\n",
       " '../dataset/test_stg1\\\\img_00007.jpg',\n",
       " '../dataset/test_stg1\\\\img_00009.jpg',\n",
       " '../dataset/test_stg1\\\\img_00018.jpg',\n",
       " '../dataset/test_stg1\\\\img_00027.jpg']"
      ]
     },
     "execution_count": 21,
     "metadata": {},
     "output_type": "execute_result"
    },
    {
     "data": {
      "text/html": [
       "<div>\n",
       "<style scoped>\n",
       "    .dataframe tbody tr th:only-of-type {\n",
       "        vertical-align: middle;\n",
       "    }\n",
       "\n",
       "    .dataframe tbody tr th {\n",
       "        vertical-align: top;\n",
       "    }\n",
       "\n",
       "    .dataframe thead th {\n",
       "        text-align: right;\n",
       "    }\n",
       "</style>\n",
       "<table border=\"1\" class=\"dataframe\">\n",
       "  <thead>\n",
       "    <tr style=\"text-align: right;\">\n",
       "      <th></th>\n",
       "      <th>path</th>\n",
       "      <th>image</th>\n",
       "    </tr>\n",
       "  </thead>\n",
       "  <tbody>\n",
       "    <tr>\n",
       "      <th>0</th>\n",
       "      <td>../dataset/test_stg1/img_00005.jpg</td>\n",
       "      <td>img_00005.jpg</td>\n",
       "    </tr>\n",
       "    <tr>\n",
       "      <th>1</th>\n",
       "      <td>../dataset/test_stg1/img_00007.jpg</td>\n",
       "      <td>img_00007.jpg</td>\n",
       "    </tr>\n",
       "    <tr>\n",
       "      <th>2</th>\n",
       "      <td>../dataset/test_stg1/img_00009.jpg</td>\n",
       "      <td>img_00009.jpg</td>\n",
       "    </tr>\n",
       "    <tr>\n",
       "      <th>3</th>\n",
       "      <td>../dataset/test_stg1/img_00018.jpg</td>\n",
       "      <td>img_00018.jpg</td>\n",
       "    </tr>\n",
       "    <tr>\n",
       "      <th>4</th>\n",
       "      <td>../dataset/test_stg1/img_00027.jpg</td>\n",
       "      <td>img_00027.jpg</td>\n",
       "    </tr>\n",
       "  </tbody>\n",
       "</table>\n",
       "</div>"
      ],
      "text/plain": [
       "                                 path          image\n",
       "0  ../dataset/test_stg1/img_00005.jpg  img_00005.jpg\n",
       "1  ../dataset/test_stg1/img_00007.jpg  img_00007.jpg\n",
       "2  ../dataset/test_stg1/img_00009.jpg  img_00009.jpg\n",
       "3  ../dataset/test_stg1/img_00018.jpg  img_00018.jpg\n",
       "4  ../dataset/test_stg1/img_00027.jpg  img_00027.jpg"
      ]
     },
     "execution_count": 21,
     "metadata": {},
     "output_type": "execute_result"
    }
   ],
   "source": [
    "from glob import glob\n",
    "test_files_path = glob(test_path + \"*jpg\", recursive=True)\n",
    "test_files_path[:5]\n",
    "submissionDf = pd.DataFrame(index=None, columns=[\"path\", \"image\"])\n",
    "submissionDf[\"path\"] = test_files_path\n",
    "test_files_path = [x.replace(\"\\\\\", \"/\", 2) for x in test_files_path]\n",
    "path_split = [x.split(\"/\") for x in test_files_path]\n",
    "image_name = [x[-1] for x in path_split]\n",
    "submissionDf[\"path\"] = test_files_path\n",
    "submissionDf[\"image\"] = image_name\n",
    "submissionDf.head()"
   ]
  },
  {
   "cell_type": "code",
   "execution_count": 34,
   "metadata": {},
   "outputs": [
    {
     "name": "stdout",
     "output_type": "stream",
     "text": [
      "Found 0 images belonging to 0 classes.\n"
     ]
    }
   ],
   "source": [
    "test_gen = flow_from_dataframe(img_gen, submissionDf, x_col=\"path\", y_col=\"image\", target_size=DIM, batch_size=256)"
   ]
  },
  {
   "cell_type": "code",
   "execution_count": 35,
   "metadata": {},
   "outputs": [
    {
     "name": "stdout",
     "output_type": "stream",
     "text": [
      "4/4 [==============================] - 208s 52s/step\n"
     ]
    }
   ],
   "source": [
    "pred = model.predict_generator(test_gen, verbose=1, steps=4)"
   ]
  },
  {
   "cell_type": "code",
   "execution_count": 45,
   "metadata": {},
   "outputs": [
    {
     "data": {
      "text/plain": [
       "1000"
      ]
     },
     "execution_count": 45,
     "metadata": {},
     "output_type": "execute_result"
    }
   ],
   "source": [
    "len(pred)"
   ]
  },
  {
   "cell_type": "code",
   "execution_count": 46,
   "metadata": {},
   "outputs": [
    {
     "data": {
      "text/plain": [
       "array([0, 1, 2, 3, 4, 5, 6, 7], dtype=int64)"
      ]
     },
     "execution_count": 46,
     "metadata": {},
     "output_type": "execute_result"
    },
    {
     "data": {
      "text/plain": [
       "(0, 'ALB')"
      ]
     },
     "execution_count": 46,
     "metadata": {},
     "output_type": "execute_result"
    },
    {
     "data": {
      "text/plain": [
       "(1, 'BET')"
      ]
     },
     "execution_count": 46,
     "metadata": {},
     "output_type": "execute_result"
    },
    {
     "data": {
      "text/plain": [
       "(2, 'DOL')"
      ]
     },
     "execution_count": 46,
     "metadata": {},
     "output_type": "execute_result"
    },
    {
     "data": {
      "text/plain": [
       "(3, 'LAG')"
      ]
     },
     "execution_count": 46,
     "metadata": {},
     "output_type": "execute_result"
    },
    {
     "data": {
      "text/plain": [
       "(4, 'NoF')"
      ]
     },
     "execution_count": 46,
     "metadata": {},
     "output_type": "execute_result"
    },
    {
     "data": {
      "text/plain": [
       "(5, 'OTHER')"
      ]
     },
     "execution_count": 46,
     "metadata": {},
     "output_type": "execute_result"
    },
    {
     "data": {
      "text/plain": [
       "(6, 'SHARK')"
      ]
     },
     "execution_count": 46,
     "metadata": {},
     "output_type": "execute_result"
    },
    {
     "data": {
      "text/plain": [
       "(7, 'YFT')"
      ]
     },
     "execution_count": 46,
     "metadata": {},
     "output_type": "execute_result"
    }
   ],
   "source": [
    "unique_labels = np.unique(category)\n",
    "lbc.fit_transform(unique_labels)\n",
    "for i, label in enumerate(list(unique_labels)):\n",
    "    (i, label)\n",
    "    submissionDf[label] = pred[:,i]"
   ]
  },
  {
   "cell_type": "code",
   "execution_count": 48,
   "metadata": {},
   "outputs": [
    {
     "data": {
      "text/html": [
       "<div>\n",
       "<style scoped>\n",
       "    .dataframe tbody tr th:only-of-type {\n",
       "        vertical-align: middle;\n",
       "    }\n",
       "\n",
       "    .dataframe tbody tr th {\n",
       "        vertical-align: top;\n",
       "    }\n",
       "\n",
       "    .dataframe thead th {\n",
       "        text-align: right;\n",
       "    }\n",
       "</style>\n",
       "<table border=\"1\" class=\"dataframe\">\n",
       "  <thead>\n",
       "    <tr style=\"text-align: right;\">\n",
       "      <th></th>\n",
       "      <th>path</th>\n",
       "      <th>image</th>\n",
       "      <th>label</th>\n",
       "      <th>ALB</th>\n",
       "      <th>BET</th>\n",
       "      <th>DOL</th>\n",
       "      <th>LAG</th>\n",
       "      <th>NoF</th>\n",
       "      <th>OTHER</th>\n",
       "      <th>SHARK</th>\n",
       "      <th>YFT</th>\n",
       "    </tr>\n",
       "  </thead>\n",
       "  <tbody>\n",
       "    <tr>\n",
       "      <th>0</th>\n",
       "      <td>../dataset/test_stg1/img_00005.jpg</td>\n",
       "      <td>img_00005.jpg</td>\n",
       "      <td>0.083080</td>\n",
       "      <td>0.390138</td>\n",
       "      <td>0.076374</td>\n",
       "      <td>0.119023</td>\n",
       "      <td>0.014287</td>\n",
       "      <td>0.107464</td>\n",
       "      <td>0.046356</td>\n",
       "      <td>0.163277</td>\n",
       "      <td>0.083080</td>\n",
       "    </tr>\n",
       "    <tr>\n",
       "      <th>1</th>\n",
       "      <td>../dataset/test_stg1/img_00007.jpg</td>\n",
       "      <td>img_00007.jpg</td>\n",
       "      <td>0.206900</td>\n",
       "      <td>0.378268</td>\n",
       "      <td>0.044148</td>\n",
       "      <td>0.044855</td>\n",
       "      <td>0.032445</td>\n",
       "      <td>0.053394</td>\n",
       "      <td>0.138160</td>\n",
       "      <td>0.101830</td>\n",
       "      <td>0.206900</td>\n",
       "    </tr>\n",
       "    <tr>\n",
       "      <th>2</th>\n",
       "      <td>../dataset/test_stg1/img_00009.jpg</td>\n",
       "      <td>img_00009.jpg</td>\n",
       "      <td>0.052434</td>\n",
       "      <td>0.719259</td>\n",
       "      <td>0.032534</td>\n",
       "      <td>0.009033</td>\n",
       "      <td>0.013369</td>\n",
       "      <td>0.066399</td>\n",
       "      <td>0.091408</td>\n",
       "      <td>0.015564</td>\n",
       "      <td>0.052434</td>\n",
       "    </tr>\n",
       "    <tr>\n",
       "      <th>3</th>\n",
       "      <td>../dataset/test_stg1/img_00018.jpg</td>\n",
       "      <td>img_00018.jpg</td>\n",
       "      <td>0.150078</td>\n",
       "      <td>0.602932</td>\n",
       "      <td>0.039236</td>\n",
       "      <td>0.030805</td>\n",
       "      <td>0.012470</td>\n",
       "      <td>0.043484</td>\n",
       "      <td>0.100047</td>\n",
       "      <td>0.020949</td>\n",
       "      <td>0.150078</td>\n",
       "    </tr>\n",
       "    <tr>\n",
       "      <th>4</th>\n",
       "      <td>../dataset/test_stg1/img_00027.jpg</td>\n",
       "      <td>img_00027.jpg</td>\n",
       "      <td>0.062509</td>\n",
       "      <td>0.160896</td>\n",
       "      <td>0.039787</td>\n",
       "      <td>0.042556</td>\n",
       "      <td>0.012302</td>\n",
       "      <td>0.561129</td>\n",
       "      <td>0.064793</td>\n",
       "      <td>0.056028</td>\n",
       "      <td>0.062509</td>\n",
       "    </tr>\n",
       "  </tbody>\n",
       "</table>\n",
       "</div>"
      ],
      "text/plain": [
       "                                 path          image     label       ALB  \\\n",
       "0  ../dataset/test_stg1/img_00005.jpg  img_00005.jpg  0.083080  0.390138   \n",
       "1  ../dataset/test_stg1/img_00007.jpg  img_00007.jpg  0.206900  0.378268   \n",
       "2  ../dataset/test_stg1/img_00009.jpg  img_00009.jpg  0.052434  0.719259   \n",
       "3  ../dataset/test_stg1/img_00018.jpg  img_00018.jpg  0.150078  0.602932   \n",
       "4  ../dataset/test_stg1/img_00027.jpg  img_00027.jpg  0.062509  0.160896   \n",
       "\n",
       "        BET       DOL       LAG       NoF     OTHER     SHARK       YFT  \n",
       "0  0.076374  0.119023  0.014287  0.107464  0.046356  0.163277  0.083080  \n",
       "1  0.044148  0.044855  0.032445  0.053394  0.138160  0.101830  0.206900  \n",
       "2  0.032534  0.009033  0.013369  0.066399  0.091408  0.015564  0.052434  \n",
       "3  0.039236  0.030805  0.012470  0.043484  0.100047  0.020949  0.150078  \n",
       "4  0.039787  0.042556  0.012302  0.561129  0.064793  0.056028  0.062509  "
      ]
     },
     "execution_count": 48,
     "metadata": {},
     "output_type": "execute_result"
    },
    {
     "data": {
      "text/html": [
       "<div>\n",
       "<style scoped>\n",
       "    .dataframe tbody tr th:only-of-type {\n",
       "        vertical-align: middle;\n",
       "    }\n",
       "\n",
       "    .dataframe tbody tr th {\n",
       "        vertical-align: top;\n",
       "    }\n",
       "\n",
       "    .dataframe thead th {\n",
       "        text-align: right;\n",
       "    }\n",
       "</style>\n",
       "<table border=\"1\" class=\"dataframe\">\n",
       "  <thead>\n",
       "    <tr style=\"text-align: right;\">\n",
       "      <th></th>\n",
       "      <th>path</th>\n",
       "      <th>image</th>\n",
       "      <th>ALB</th>\n",
       "      <th>BET</th>\n",
       "      <th>DOL</th>\n",
       "      <th>LAG</th>\n",
       "      <th>NoF</th>\n",
       "      <th>OTHER</th>\n",
       "      <th>SHARK</th>\n",
       "      <th>YFT</th>\n",
       "    </tr>\n",
       "  </thead>\n",
       "  <tbody>\n",
       "    <tr>\n",
       "      <th>0</th>\n",
       "      <td>../dataset/test_stg1/img_00005.jpg</td>\n",
       "      <td>img_00005.jpg</td>\n",
       "      <td>0.390138</td>\n",
       "      <td>0.076374</td>\n",
       "      <td>0.119023</td>\n",
       "      <td>0.014287</td>\n",
       "      <td>0.107464</td>\n",
       "      <td>0.046356</td>\n",
       "      <td>0.163277</td>\n",
       "      <td>0.083080</td>\n",
       "    </tr>\n",
       "    <tr>\n",
       "      <th>1</th>\n",
       "      <td>../dataset/test_stg1/img_00007.jpg</td>\n",
       "      <td>img_00007.jpg</td>\n",
       "      <td>0.378268</td>\n",
       "      <td>0.044148</td>\n",
       "      <td>0.044855</td>\n",
       "      <td>0.032445</td>\n",
       "      <td>0.053394</td>\n",
       "      <td>0.138160</td>\n",
       "      <td>0.101830</td>\n",
       "      <td>0.206900</td>\n",
       "    </tr>\n",
       "    <tr>\n",
       "      <th>2</th>\n",
       "      <td>../dataset/test_stg1/img_00009.jpg</td>\n",
       "      <td>img_00009.jpg</td>\n",
       "      <td>0.719259</td>\n",
       "      <td>0.032534</td>\n",
       "      <td>0.009033</td>\n",
       "      <td>0.013369</td>\n",
       "      <td>0.066399</td>\n",
       "      <td>0.091408</td>\n",
       "      <td>0.015564</td>\n",
       "      <td>0.052434</td>\n",
       "    </tr>\n",
       "    <tr>\n",
       "      <th>3</th>\n",
       "      <td>../dataset/test_stg1/img_00018.jpg</td>\n",
       "      <td>img_00018.jpg</td>\n",
       "      <td>0.602932</td>\n",
       "      <td>0.039236</td>\n",
       "      <td>0.030805</td>\n",
       "      <td>0.012470</td>\n",
       "      <td>0.043484</td>\n",
       "      <td>0.100047</td>\n",
       "      <td>0.020949</td>\n",
       "      <td>0.150078</td>\n",
       "    </tr>\n",
       "    <tr>\n",
       "      <th>4</th>\n",
       "      <td>../dataset/test_stg1/img_00027.jpg</td>\n",
       "      <td>img_00027.jpg</td>\n",
       "      <td>0.160896</td>\n",
       "      <td>0.039787</td>\n",
       "      <td>0.042556</td>\n",
       "      <td>0.012302</td>\n",
       "      <td>0.561129</td>\n",
       "      <td>0.064793</td>\n",
       "      <td>0.056028</td>\n",
       "      <td>0.062509</td>\n",
       "    </tr>\n",
       "  </tbody>\n",
       "</table>\n",
       "</div>"
      ],
      "text/plain": [
       "                                 path          image       ALB       BET  \\\n",
       "0  ../dataset/test_stg1/img_00005.jpg  img_00005.jpg  0.390138  0.076374   \n",
       "1  ../dataset/test_stg1/img_00007.jpg  img_00007.jpg  0.378268  0.044148   \n",
       "2  ../dataset/test_stg1/img_00009.jpg  img_00009.jpg  0.719259  0.032534   \n",
       "3  ../dataset/test_stg1/img_00018.jpg  img_00018.jpg  0.602932  0.039236   \n",
       "4  ../dataset/test_stg1/img_00027.jpg  img_00027.jpg  0.160896  0.039787   \n",
       "\n",
       "        DOL       LAG       NoF     OTHER     SHARK       YFT  \n",
       "0  0.119023  0.014287  0.107464  0.046356  0.163277  0.083080  \n",
       "1  0.044855  0.032445  0.053394  0.138160  0.101830  0.206900  \n",
       "2  0.009033  0.013369  0.066399  0.091408  0.015564  0.052434  \n",
       "3  0.030805  0.012470  0.043484  0.100047  0.020949  0.150078  \n",
       "4  0.042556  0.012302  0.561129  0.064793  0.056028  0.062509  "
      ]
     },
     "execution_count": 48,
     "metadata": {},
     "output_type": "execute_result"
    }
   ],
   "source": [
    "submissionDf.head()\n",
    "submissionDf.drop(\"label\", axis=1, inplace=True)\n",
    "submissionDf.head()"
   ]
  },
  {
   "cell_type": "code",
   "execution_count": 49,
   "metadata": {},
   "outputs": [],
   "source": [
    "submissionDf.to_csv(\"predictions_test_stage_1.csv\")"
   ]
  },
  {
   "cell_type": "code",
   "execution_count": null,
   "metadata": {},
   "outputs": [],
   "source": []
  }
 ],
 "metadata": {
  "kernelspec": {
   "display_name": "Python 3",
   "language": "python",
   "name": "python3"
  },
  "language_info": {
   "codemirror_mode": {
    "name": "ipython",
    "version": 3
   },
   "file_extension": ".py",
   "mimetype": "text/x-python",
   "name": "python",
   "nbconvert_exporter": "python",
   "pygments_lexer": "ipython3",
   "version": "3.6.8"
  }
 },
 "nbformat": 4,
 "nbformat_minor": 2
}
